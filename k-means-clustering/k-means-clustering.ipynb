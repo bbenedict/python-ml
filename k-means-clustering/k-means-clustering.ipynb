{
 "cells": [
  {
   "cell_type": "markdown",
   "metadata": {},
   "source": [
    "k-means clustering in python\n",
    "https://scikit-learn.org/stable/modules/generated/sklearn.cluster.KMeans.html"
   ]
  },
  {
   "cell_type": "code",
   "execution_count": 178,
   "metadata": {},
   "outputs": [],
   "source": [
    "from sklearn.datasets import make_blobs\n",
    "from sklearn.cluster import KMeans\n",
    "import mglearn"
   ]
  },
  {
   "cell_type": "code",
   "execution_count": 192,
   "metadata": {},
   "outputs": [],
   "source": [
    "random_state=6 \n",
    "clusters=5 # 5 or less for the chart colors to work out"
   ]
  },
  {
   "cell_type": "code",
   "execution_count": 193,
   "metadata": {},
   "outputs": [],
   "source": [
    "X,y = make_blobs(random_state=random_state)"
   ]
  },
  {
   "cell_type": "code",
   "execution_count": 194,
   "metadata": {},
   "outputs": [
    {
     "name": "stdout",
     "output_type": "stream",
     "text": [
      "[[-8.31608318  2.77186206]\n",
      " [ 8.71632024 -4.01708359]\n",
      " [ 6.39322416 -9.25026775]\n",
      " [-7.54786196  1.07927171]\n",
      " [ 7.44459775 -2.74240206]]\n"
     ]
    }
   ],
   "source": [
    "kmeans = KMeans(n_clusters=clusters)\n",
    "kmeans.fit(X)\n",
    "print(kmeans.cluster_centers_)"
   ]
  },
  {
   "cell_type": "code",
   "execution_count": 195,
   "metadata": {},
   "outputs": [
    {
     "data": {
      "text/plain": [
       "[<matplotlib.lines.Line2D at 0x128cff910>,\n",
       " <matplotlib.lines.Line2D at 0x128cffc70>,\n",
       " <matplotlib.lines.Line2D at 0x128cfffd0>,\n",
       " <matplotlib.lines.Line2D at 0x128cd4370>,\n",
       " <matplotlib.lines.Line2D at 0x128cd46d0>]"
      ]
     },
     "execution_count": 195,
     "metadata": {},
     "output_type": "execute_result"
    },
    {
     "data": {
      "image/png": "[encoded data removed]",
      "text/plain": [
       "<Figure size 432x288 with 1 Axes>"
      ]
     },
     "metadata": {
      "needs_background": "light"
     },
     "output_type": "display_data"
    }
   ],
   "source": [
    "colors = ['b','g','r','m','c']\n",
    "x_result_color=colors[X_result[0]]\n",
    "mglearn.discrete_scatter(X[:,0], X[:,1],\n",
    "                         kmeans.labels_,\n",
    "                         c=colors,\n",
    "                         markers='o')\n",
    "centers = list(range(0, clusters))\n",
    "mglearn.discrete_scatter(\n",
    "    kmeans.cluster_centers_[:,0],\n",
    "    kmeans.cluster_centers_[:,1],\n",
    "    centers,markers='^',\n",
    "    c=colors,\n",
    "    markeredgewidth=2)"
   ]
  },
  {
   "cell_type": "markdown",
   "metadata": {},
   "source": [
    "Test the model with a single value"
   ]
  },
  {
   "cell_type": "code",
   "execution_count": 196,
   "metadata": {},
   "outputs": [
    {
     "name": "stdout",
     "output_type": "stream",
     "text": [
      "[[ 5.37042238 -2.44715237]] [4]\n"
     ]
    }
   ],
   "source": [
    "X_test,y_test = make_blobs(n_samples=1,random_state=random_state)\n",
    "X_result = kmeans.predict(X_test)\n",
    "print(X_test,X_result)"
   ]
  },
  {
   "cell_type": "markdown",
   "metadata": {},
   "source": [
    "This is a chart of the centers showing only the test values."
   ]
  },
  {
   "cell_type": "code",
   "execution_count": 197,
   "metadata": {},
   "outputs": [
    {
     "data": {
      "text/plain": [
       "[<matplotlib.lines.Line2D at 0x126b18d00>,\n",
       " <matplotlib.lines.Line2D at 0x126b18f40>,\n",
       " <matplotlib.lines.Line2D at 0x126b262e0>,\n",
       " <matplotlib.lines.Line2D at 0x126b26640>,\n",
       " <matplotlib.lines.Line2D at 0x126b269a0>]"
      ]
     },
     "execution_count": 197,
     "metadata": {},
     "output_type": "execute_result"
    },
    {
     "data": {
      "image/png": "[encoded data removed]",
      "text/plain": [
       "<Figure size 432x288 with 1 Axes>"
      ]
     },
     "metadata": {
      "needs_background": "light"
     },
     "output_type": "display_data"
    }
   ],
   "source": [
    "x_result_color=colors[X_result[0]]\n",
    "mglearn.discrete_scatter(X_test[:,0],\n",
    "                         X_test[:,1],\n",
    "                         c=x_result_color, \n",
    "                         markers='s')\n",
    "centers = list(range(0, clusters))\n",
    "mglearn.discrete_scatter(\n",
    "    kmeans.cluster_centers_[:,0],\n",
    "    kmeans.cluster_centers_[:,1],\n",
    "    centers,markers='^',\n",
    "    c=colors,\n",
    "    markeredgewidth=2)"
   ]
  }
 ],
 "metadata": {
  "kernelspec": {
   "display_name": "Python 3",
   "language": "python",
   "name": "python3"
  },
  "language_info": {
   "codemirror_mode": {
    "name": "ipython",
    "version": 3
   },
   "file_extension": ".py",
   "mimetype": "text/x-python",
   "name": "python",
   "nbconvert_exporter": "python",
   "pygments_lexer": "ipython3",
   "version": "3.8.6"
  }
 },
 "nbformat": 4,
 "nbformat_minor": 4
}
