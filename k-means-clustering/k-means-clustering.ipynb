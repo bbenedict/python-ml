{
 "cells": [
  {
   "cell_type": "markdown",
   "metadata": {},
   "source": [
    "k-means clustering in python\n",
    "https://scikit-learn.org/stable/modules/generated/sklearn.cluster.KMeans.html"
   ]
  },
  {
   "cell_type": "code",
   "execution_count": 99,
   "metadata": {},
   "outputs": [],
   "source": [
    "from sklearn.datasets import make_blobs\n",
    "from sklearn.cluster import KMeans\n",
    "import mglearn\n",
    "import matplotlib.pyplot as plt\n",
    "import numpy as np"
   ]
  },
  {
   "cell_type": "code",
   "execution_count": 100,
   "metadata": {},
   "outputs": [],
   "source": [
    "random_state=2\n",
    "clusters=3 # 5 or less for the chart colors to work out\n",
    "test_cases=5"
   ]
  },
  {
   "cell_type": "code",
   "execution_count": 101,
   "metadata": {},
   "outputs": [],
   "source": [
    "X,y = make_blobs(random_state=random_state)"
   ]
  },
  {
   "cell_type": "code",
   "execution_count": 102,
   "metadata": {},
   "outputs": [
    {
     "data": {
      "text/plain": [
       "KMeans(n_clusters=3)"
      ]
     },
     "execution_count": 102,
     "metadata": {},
     "output_type": "execute_result"
    }
   ],
   "source": [
    "kmeans = KMeans(n_clusters=clusters)\n",
    "kmeans.fit(X)"
   ]
  },
  {
   "cell_type": "code",
   "execution_count": 103,
   "metadata": {},
   "outputs": [
    {
     "data": {
      "text/plain": [
       "<matplotlib.legend.Legend at 0x11ddf5880>"
      ]
     },
     "execution_count": 103,
     "metadata": {},
     "output_type": "execute_result"
    },
    {
     "data": {
      "image/png": "[encoded data removed]",
      "text/plain": [
       "<Figure size 432x288 with 1 Axes>"
      ]
     },
     "metadata": {
      "needs_background": "light"
     },
     "output_type": "display_data"
    }
   ],
   "source": [
    "colors = ['b','g','r','m','c']\n",
    "mglearn.discrete_scatter(X[:,0],\n",
    "                         X[:,1],\n",
    "                         kmeans.labels_,\n",
    "                         c=colors,\n",
    "                         markers='o')\n",
    "centers = list(range(0, clusters))\n",
    "mglearn.discrete_scatter(\n",
    "    kmeans.cluster_centers_[:,0],\n",
    "    kmeans.cluster_centers_[:,1],\n",
    "    centers,\n",
    "    markers='^',\n",
    "    c=colors,\n",
    "    markeredgewidth=2)\n",
    "plt.legend (centers,loc='best')"
   ]
  },
  {
   "cell_type": "markdown",
   "metadata": {},
   "source": [
    "Now test the model with n random test values"
   ]
  },
  {
   "cell_type": "code",
   "execution_count": 104,
   "metadata": {},
   "outputs": [],
   "source": [
    "X_test,y_test = make_blobs(n_samples=test_cases,random_state=random_state)\n",
    "X_result = kmeans.predict(X_test)"
   ]
  },
  {
   "cell_type": "code",
   "execution_count": 105,
   "metadata": {},
   "outputs": [
    {
     "data": {
      "text/plain": [
       "<matplotlib.legend.Legend at 0x11e188f10>"
      ]
     },
     "execution_count": 105,
     "metadata": {},
     "output_type": "execute_result"
    },
    {
     "data": {
      "image/png": "[encoded data removed]",
      "text/plain": [
       "<Figure size 432x288 with 1 Axes>"
      ]
     },
     "metadata": {
      "needs_background": "light"
     },
     "output_type": "display_data"
    }
   ],
   "source": [
    "x_result_color=colors[X_result[0]]\n",
    "mglearn.discrete_scatter(X_test[:,0],\n",
    "                         X_test[:,1],\n",
    "                         X_result,\n",
    "                         c=colors, \n",
    "                         markers='s')\n",
    "centers = list(range(0, clusters))\n",
    "mglearn.discrete_scatter(\n",
    "    kmeans.cluster_centers_[:,0],\n",
    "    kmeans.cluster_centers_[:,1],\n",
    "    centers,\n",
    "    markers='^',\n",
    "    c=colors)\n",
    "plt.legend (centers,loc='best')"
   ]
  },
  {
   "cell_type": "code",
   "execution_count": 106,
   "metadata": {},
   "outputs": [
    {
     "name": "stdout",
     "output_type": "stream",
     "text": [
      "center 0) values -1.49027092,-3.36012157\n",
      "center 1) values -1.54540215,-9.40774800\n",
      "center 2) values 1.09656621,-1.30561950\n"
     ]
    }
   ],
   "source": [
    "for i in range(0,clusters):\n",
    "    print(\"center %d) values %.8f,%.8f\" %(i,kmeans.cluster_centers_[i,0],kmeans.cluster_centers_[i,1]))"
   ]
  },
  {
   "cell_type": "code",
   "execution_count": 107,
   "metadata": {},
   "outputs": [
    {
     "name": "stdout",
     "output_type": "stream",
     "text": [
      "test case 0) values 1.03478895,-2.41147759 assigned to cluster 2\n",
      "test case 1) values -0.77722054,-10.72676345 assigned to cluster 1\n",
      "test case 2) values -1.05358564,-3.98946328 assigned to cluster 0\n",
      "test case 3) values -2.33805418,-10.39048298 assigned to cluster 1\n",
      "test case 4) values 1.54470360,0.99865587 assigned to cluster 2\n"
     ]
    }
   ],
   "source": [
    "for i in range(0,test_cases):\n",
    "    print(\"test case %d) values %.8f,%.8f assigned to cluster %d\" %(i,X_test[i,0],X_test[i,1],X_result[i]))"
   ]
  }
 ],
 "metadata": {
  "kernelspec": {
   "display_name": "Python 3",
   "language": "python",
   "name": "python3"
  },
  "language_info": {
   "codemirror_mode": {
    "name": "ipython",
    "version": 3
   },
   "file_extension": ".py",
   "mimetype": "text/x-python",
   "name": "python",
   "nbconvert_exporter": "python",
   "pygments_lexer": "ipython3",
   "version": "3.8.6"
  }
 },
 "nbformat": 4,
 "nbformat_minor": 4
}
